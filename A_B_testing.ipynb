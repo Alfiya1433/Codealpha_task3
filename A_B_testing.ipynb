{
  "nbformat": 4,
  "nbformat_minor": 0,
  "metadata": {
    "colab": {
      "provenance": [],
      "authorship_tag": "ABX9TyMW8PbZLJIetlMVJUpNJDvN",
      "include_colab_link": true
    },
    "kernelspec": {
      "name": "python3",
      "display_name": "Python 3"
    },
    "language_info": {
      "name": "python"
    }
  },
  "cells": [
    {
      "cell_type": "markdown",
      "metadata": {
        "id": "view-in-github",
        "colab_type": "text"
      },
      "source": [
        "<a href=\"https://colab.research.google.com/github/Alfiya1433/Codealpha_task3/blob/main/A_B_testing.ipynb\" target=\"_parent\"><img src=\"https://colab.research.google.com/assets/colab-badge.svg\" alt=\"Open In Colab\"/></a>"
      ]
    },
    {
      "cell_type": "code",
      "execution_count": null,
      "metadata": {
        "id": "NSeuC8fWt8op"
      },
      "outputs": [],
      "source": [
        "import numpy as np\n",
        "import pandas as pd\n",
        "from scipy import stats\n",
        "import matplotlib.pyplot as plt\n",
        "%matplotlib inline\n",
        "\n",
        "\n",
        "\n"
      ]
    },
    {
      "cell_type": "code",
      "source": [
        "#generation of hyypothetical data\n",
        "control_conversion_rate = 0.05\n",
        "variant_conversion_rate = 0.07\n",
        "control_sample_size = 1000\n",
        "variant_sample_size = 1000\n",
        "\n",
        "np.random.seed(42)\n",
        "control_group = np.random.binomial(1, control_conversion_rate, control_sample_size)\n",
        "variant_group = np.random.binomial(1, variant_conversion_rate, variant_sample_size)\n"
      ],
      "metadata": {
        "id": "k53-pZKDt_Ee"
      },
      "execution_count": null,
      "outputs": []
    },
    {
      "cell_type": "code",
      "source": [
        "# Analyze the result\n",
        "control_conversion_rate = np.mean(control_group)\n",
        "variant_conversion_rate = np.mean(variant_group)\n",
        "\n",
        "\n",
        "t_statistic, p_value = stats.ttest_ind(control_group, variant_group)\n",
        "\n",
        "\n",
        "print(f\"Conversion Rate - Control: {control_conversion_rate:.4f}\")\n",
        "print(f\"Conversion Rate - Variant: {variant_conversion_rate:.4f}\")\n",
        "print(f\"P-value: {p_value:.4f}\")\n",
        "\n",
        "\n",
        "if p_value < 0.05:\n",
        "    print(\"Statistically significant - Variant B is performing better than Variant A.\")\n",
        "else:\n",
        "    print(\"Not statistically significant - No significant difference observed between Variant A and Variant B.\")\n",
        "\n"
      ],
      "metadata": {
        "colab": {
          "base_uri": "https://localhost:8080/"
        },
        "id": "EJa3DE3AuOd-",
        "outputId": "17492be9-0aae-48f0-93a2-3b876d255757"
      },
      "execution_count": null,
      "outputs": [
        {
          "output_type": "stream",
          "name": "stdout",
          "text": [
            "Conversion Rate - Control: 0.0460\n",
            "Conversion Rate - Variant: 0.0800\n",
            "P-value: 0.0017\n",
            "Statistically significant - Variant B is performing better than Variant A.\n"
          ]
        }
      ]
    },
    {
      "cell_type": "code",
      "source": [
        "#  Visualize the Results\n",
        "\n",
        "\n",
        "labels = ['Control', 'Variant']\n",
        "conversion_rates = [control_conversion_rate, variant_conversion_rate]\n",
        "\n",
        "plt.bar(labels, conversion_rates, color=['blue', 'green'])\n",
        "plt.xlabel('Group')\n",
        "plt.ylabel('Conversion Rate')\n",
        "plt.title('Conversion Rate by Group')\n",
        "plt.ylim\n"
      ],
      "metadata": {
        "colab": {
          "base_uri": "https://localhost:8080/",
          "height": 642
        },
        "id": "HqDNgBwGumTW",
        "outputId": "08ad6681-d1fa-4bd4-a2bb-1edd94aa2122"
      },
      "execution_count": null,
      "outputs": [
        {
          "output_type": "execute_result",
          "data": {
            "text/plain": [
              "<function matplotlib.pyplot.ylim(*args, **kwargs)>"
            ],
            "text/html": [
              "<div style=\"max-width:800px; border: 1px solid var(--colab-border-color);\"><style>\n",
              "      pre.function-repr-contents {\n",
              "        overflow-x: auto;\n",
              "        padding: 8px 12px;\n",
              "        max-height: 500px;\n",
              "      }\n",
              "\n",
              "      pre.function-repr-contents.function-repr-contents-collapsed {\n",
              "        cursor: pointer;\n",
              "        max-height: 100px;\n",
              "      }\n",
              "    </style>\n",
              "    <pre style=\"white-space: initial; background:\n",
              "         var(--colab-secondary-surface-color); padding: 8px 12px;\n",
              "         border-bottom: 1px solid var(--colab-border-color);\"><b>matplotlib.pyplot.ylim</b><br/>def ylim(*args, **kwargs)</pre><pre class=\"function-repr-contents function-repr-contents-collapsed\" style=\"\"><a class=\"filepath\" style=\"display:none\" href=\"#\">/usr/local/lib/python3.10/dist-packages/matplotlib/pyplot.py</a>Get or set the y-limits of the current axes.\n",
              "\n",
              "Call signatures::\n",
              "\n",
              "    bottom, top = ylim()  # return the current ylim\n",
              "    ylim((bottom, top))   # set the ylim to bottom, top\n",
              "    ylim(bottom, top)     # set the ylim to bottom, top\n",
              "\n",
              "If you do not specify args, you can alternatively pass *bottom* or\n",
              "*top* as kwargs, i.e.::\n",
              "\n",
              "    ylim(top=3)  # adjust the top leaving bottom unchanged\n",
              "    ylim(bottom=1)  # adjust the bottom leaving top unchanged\n",
              "\n",
              "Setting limits turns autoscaling off for the y-axis.\n",
              "\n",
              "Returns\n",
              "-------\n",
              "bottom, top\n",
              "    A tuple of the new y-axis limits.\n",
              "\n",
              "Notes\n",
              "-----\n",
              "Calling this function with no arguments (e.g. ``ylim()``) is the pyplot\n",
              "equivalent of calling `~.Axes.get_ylim` on the current axes.\n",
              "Calling this function with arguments is the pyplot equivalent of calling\n",
              "`~.Axes.set_ylim` on the current axes. All arguments are passed though.</pre>\n",
              "      <script>\n",
              "      if (google.colab.kernel.accessAllowed && google.colab.files && google.colab.files.view) {\n",
              "        for (const element of document.querySelectorAll('.filepath')) {\n",
              "          element.style.display = 'block'\n",
              "          element.onclick = (event) => {\n",
              "            event.preventDefault();\n",
              "            event.stopPropagation();\n",
              "            google.colab.files.view(element.textContent, 1798);\n",
              "          };\n",
              "        }\n",
              "      }\n",
              "      for (const element of document.querySelectorAll('.function-repr-contents')) {\n",
              "        element.onclick = (event) => {\n",
              "          event.preventDefault();\n",
              "          event.stopPropagation();\n",
              "          element.classList.toggle('function-repr-contents-collapsed');\n",
              "        };\n",
              "      }\n",
              "      </script>\n",
              "      </div>"
            ]
          },
          "metadata": {},
          "execution_count": 4
        },
        {
          "output_type": "display_data",
          "data": {
            "text/plain": [
              "<Figure size 640x480 with 1 Axes>"
            ],
            "image/png": "[encoded data removed]"
          },
          "metadata": {}
        }
      ]
    }
  ]
}